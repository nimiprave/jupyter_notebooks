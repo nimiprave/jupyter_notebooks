{
 "cells": [
  {
   "cell_type": "markdown",
   "id": "7ea8908d-4c5e-49ee-b39c-c34d9a41666f",
   "metadata": {
    "editable": true,
    "slideshow": {
     "slide_type": "notes"
    },
    "tags": []
   },
   "source": [
    "Training the First Digit classifier"
   ]
  },
  {
   "cell_type": "markdown",
   "id": "37224da3-2f2a-4b13-9060-ff2aaae9fa05",
   "metadata": {},
   "source": [
    "The Goal of this Jupyter notebook is to learn the creation of the book, step by step .... persistence is the key\n"
   ]
  },
  {
   "cell_type": "markdown",
   "id": "042f54d0-f662-4f65-a6b4-010a929da7d2",
   "metadata": {},
   "source": [
    "Little bit of Python List Comprehensions. These are heavily used for creating the tensors or arrays using numpy for manipulating the pixels of the images. "
   ]
  }
 ],
 "metadata": {
  "kernelspec": {
   "display_name": "Python 3 (ipykernel)",
   "language": "python",
   "name": "python3"
  },
  "language_info": {
   "codemirror_mode": {
    "name": "ipython",
    "version": 3
   },
   "file_extension": ".py",
   "mimetype": "text/x-python",
   "name": "python",
   "nbconvert_exporter": "python",
   "pygments_lexer": "ipython3",
   "version": "3.10.12"
  }
 },
 "nbformat": 4,
 "nbformat_minor": 5
}
